{
 "cells": [
  {
   "cell_type": "code",
   "execution_count": 11,
   "id": "economic-content",
   "metadata": {},
   "outputs": [],
   "source": [
    "import csv\n",
    "import pandas as pd \n",
    "from fpdf import FPDF\n",
    "from PIL import Image\n",
    "\n",
    "arquivo = 'dados-limpos/csv/diarias-2020-usar-pdf'\n",
    "arquivo_n = 'dados-limpos/pdf/diarias-2020-pdf'\n",
    "df = pd.read_csv(arquivo + '.csv')\n",
    "\n",
    "df_sum = df['Total'].sum()\n",
    "ano = df['Ano'][0]\n",
    "\n",
    "with open(arquivo + '.csv', encoding='utf-8') as f:\n",
    "    \n",
    "    reader = csv.reader(f)\n",
    "    \n",
    "    pdf = FPDF(orientation='L', unit='mm', format='A3')\n",
    "    pdf.add_page()\n",
    "    pdf.alias_nb_pages()\n",
    "    page_width = pdf.w - 2 * pdf.l_margin\n",
    "    \n",
    "    pdf.set_font('helvetica','B',12.0) \n",
    "    pdf.cell(page_width, 0.0, f'Pagamento de Diárias - Ano: {ano}: Prefeitura Municipal de Tucano/BA.', align='C')\n",
    "    pdf.cell(-400, 15, f'Fonte de dados: Portal de Acesso a Informação de Tucano. Site: https://www.municipioonline.com.br/ba/prefeitura/tucano/cidadao/diarias. Valor total do ano: R$ {df_sum:.2f}.', align='C')\n",
    "    #pdf.cell(50, 5, f'Dados tratados por:', align='C')\n",
    "    pdf.image('logo-topo.png', 180,25,70, link='https://dadosabertostucano.org')\n",
    "    pdf.ln(40)\n",
    "\n",
    "    pdf.set_font('helvetica', '', 7)\n",
    "    col_width = page_width/10\n",
    "    pdf.ln(1)\n",
    "    th = 11\n",
    "    pdf.image('logo.png', 75,115, 283)\n",
    "    for row in reader:\n",
    "        #print(row)\n",
    "        pdf.cell(83, th, str(row[0]), border=1)\n",
    "        pdf.cell(85, th, row[1], border=1)\n",
    "        pdf.cell(65, th, row[2], border=1)\n",
    "        pdf.cell(17, th, row[3], border=1)\n",
    "        pdf.cell(15, th, row[4], border=1)\n",
    "        pdf.cell(33, th, row[5], border=1)\n",
    "        pdf.cell(10, th, row[6], border=1)\n",
    "        pdf.cell(15, th, row[7], border=1)\n",
    "        pdf.cell(15, th, row[8], border=1)\n",
    "        pdf.cell(15, th, row[9], border=1)\n",
    "        pdf.cell(25, th, row[10], border=1)\n",
    "        pdf.cell(25, th, row[11], border=1)\n",
    "        pdf.ln(th)\n",
    "        \n",
    "    pdf.ln(10)\n",
    "    \n",
    "    pdf.set_font('helvetica','',14.0) \n",
    "    pdf.cell(page_width, 30, f'Acesse: https://dadosabertostucano.org', align='C')\n",
    "    pdf.image('logo.png', 75,115, 283, link='https://dadosabertostucano.org')\n",
    "    pdf.output(arquivo_n + '.pdf', 'F')"
   ]
  },
  {
   "cell_type": "code",
   "execution_count": null,
   "id": "impaired-grave",
   "metadata": {},
   "outputs": [],
   "source": []
  }
 ],
 "metadata": {
  "kernelspec": {
   "display_name": "Python 3",
   "language": "python",
   "name": "python3"
  },
  "language_info": {
   "codemirror_mode": {
    "name": "ipython",
    "version": 3
   },
   "file_extension": ".py",
   "mimetype": "text/x-python",
   "name": "python",
   "nbconvert_exporter": "python",
   "pygments_lexer": "ipython3",
   "version": "3.8.7"
  }
 },
 "nbformat": 4,
 "nbformat_minor": 5
}
