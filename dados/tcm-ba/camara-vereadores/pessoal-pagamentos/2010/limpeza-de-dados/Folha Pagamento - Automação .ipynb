{
 "cells": [
  {
   "cell_type": "code",
   "execution_count": 11,
   "id": "secure-sharp",
   "metadata": {},
   "outputs": [],
   "source": [
    "import pyautogui\n",
    "import pyperclip\n",
    "import pandas as pd\n",
    "import numpy\n",
    "import time \n"
   ]
  },
  {
   "cell_type": "code",
   "execution_count": 18,
   "id": "labeled-brass",
   "metadata": {},
   "outputs": [
    {
     "data": {
      "text/plain": [
       "'http://www.acessoinformacao.org.br/transparencia/ba/tucano/pessoal/folha-pagamento/export?format=csv&_f%5Bmes_referencia%5D=2&_f%5Bano_referencia%5D=2020&page=1'"
      ]
     },
     "execution_count": 18,
     "metadata": {},
     "output_type": "execute_result"
    }
   ],
   "source": [
    "x = range(83) \n",
    "y = range(12)\n",
    "lista_mes = list(y) \n",
    "lista_pagina =  list(x)\n",
    "mes = '12'\n",
    "#http://www.acessoinformacao.org.br/transparencia/ba/tucano/pessoal/folha-pagamento/export?format=csv&_f%5Bmes_referencia%5D=7&_f%5Bano_referencia%5D=2020&page=1\n",
    "#file = '/teste/folha-pessoal-pagina-' + str(lista[i]) + '.csv'\n",
    "file = f'http://www.acessoinformacao.org.br/transparencia/ba/tucano/pessoal/folha-pagamento/export?format=csv&_f%5Bmes_referencia%5D={str(lista_pagina[2])}&_f%5Bano_referencia%5D=2020&page={str(lista_pagina[1])}'\n",
    "file"
   ]
  },
  {
   "cell_type": "code",
   "execution_count": 44,
   "id": "boring-crazy",
   "metadata": {},
   "outputs": [
    {
     "data": {
      "text/plain": [
       "'1'"
      ]
     },
     "execution_count": 44,
     "metadata": {},
     "output_type": "execute_result"
    }
   ],
   "source": [
    "mes"
   ]
  },
  {
   "cell_type": "code",
   "execution_count": null,
   "id": "adjacent-surge",
   "metadata": {},
   "outputs": [],
   "source": []
  },
  {
   "cell_type": "code",
   "execution_count": 15,
   "id": "caring-adapter",
   "metadata": {},
   "outputs": [
    {
     "data": {
      "text/plain": [
       "Point(x=875, y=214)"
      ]
     },
     "execution_count": 15,
     "metadata": {},
     "output_type": "execute_result"
    }
   ],
   "source": [
    "#Verificar posição na página \n",
    "pyautogui.position() "
   ]
  },
  {
   "cell_type": "code",
   "execution_count": 19,
   "id": "active-watts",
   "metadata": {},
   "outputs": [],
   "source": [
    "for w in lista_pagina: \n",
    "    \n",
    "    file = f'http://www.acessoinformacao.org.br/transparencia/ba/tucano/pessoal/folha-pagamento/export?format=csv&_f%5Bmes_referencia%5D={str(mes)}&_f%5Bano_referencia%5D=2019&page={str(lista_pagina[w])}'\n",
    "    pyautogui.moveTo(619, 53, duration=0.8)\n",
    "    pyautogui.click(619, 53)\n",
    "    pyperclip.copy(file)\n",
    "    pyautogui.hotkey('ctrl', 'v')\n",
    "    pyperclip.copy('')\n",
    "    #pyautogui.write('http://www.acessoinformacao.org.br/transparencia/ba/tucano/pessoal/folha-pagamento/export?format=csv&_f%5Bmes_referencia%5D=7&_f%5Bano_referencia%5D=2020&page=1')\n",
    "    time.sleep(2)\n",
    "    pyautogui.press('enter')\n",
    "    time.sleep(1)\n",
    "    pyautogui.moveTo(875, 214, duration=0.8)\n",
    "    time.sleep(1)\n",
    "    pyautogui.moveTo(619, 53, duration=0.8)\n",
    "    pyautogui.click(619, 53)\n",
    "    pyautogui.click(619, 53)\n",
    "    pyautogui.click(619, 53)\n",
    "    time.sleep(2)\n",
    "    pyautogui.press('backspace')\n",
    "    time.sleep(2)\n"
   ]
  },
  {
   "cell_type": "code",
   "execution_count": null,
   "id": "latin-remains",
   "metadata": {},
   "outputs": [],
   "source": []
  }
 ],
 "metadata": {
  "kernelspec": {
   "display_name": "Python 3",
   "language": "python",
   "name": "python3"
  },
  "language_info": {
   "codemirror_mode": {
    "name": "ipython",
    "version": 3
   },
   "file_extension": ".py",
   "mimetype": "text/x-python",
   "name": "python",
   "nbconvert_exporter": "python",
   "pygments_lexer": "ipython3",
   "version": "3.8.7"
  }
 },
 "nbformat": 4,
 "nbformat_minor": 5
}
