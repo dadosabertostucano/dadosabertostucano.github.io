{
 "cells": [
  {
   "cell_type": "code",
   "execution_count": null,
   "metadata": {},
   "outputs": [],
   "source": [
    "from PyPDF2 import PdfFileReader\n",
    "from nltk.tokenize import SpaceTokenizer \n",
    "import pandas as pd\n",
    "import os\n",
    "import re\n",
    "import numpy as np"
   ]
  },
  {
   "cell_type": "code",
   "execution_count": null,
   "metadata": {},
   "outputs": [],
   "source": [
    "root_path = '/data'\n",
    "pdf_files = []\n",
    "\n",
    "# get all pdf files\n",
    "for dir_path, dir_names, filenames in os.walk(root_path):\n",
    "    for filename in [f for f in filenames if f.endswith(\".pdf\")]:\n",
    "        pdf_files.append(os.path.join(dir_path, filename))\n",
    "pdf_files"
   ]
  }
 ],
 "metadata": {
  "kernelspec": {
   "display_name": "Python 3",
   "language": "python",
   "name": "python3"
  },
  "language_info": {
   "codemirror_mode": {
    "name": "ipython",
    "version": 3
   },
   "file_extension": ".py",
   "mimetype": "text/x-python",
   "name": "python",
   "nbconvert_exporter": "python",
   "pygments_lexer": "ipython3",
   "version": "3.8.7"
  }
 },
 "nbformat": 4,
 "nbformat_minor": 2
}
