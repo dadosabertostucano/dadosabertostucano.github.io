{
 "cells": [
  {
   "cell_type": "code",
   "execution_count": 5,
   "metadata": {},
   "outputs": [
    {
     "data": {
      "text/plain": [
       "'201210819'"
      ]
     },
     "execution_count": 5,
     "metadata": {},
     "output_type": "execute_result"
    }
   ],
   "source": [
    "import pandas as pd\n",
    "import numpy as np\n",
    "\n",
    "\n",
    "mestrado_geral = pd.read_csv('mestrado_geral.csv', dtype = {'Matrícula': str})\n",
    "mestrado_baixado = pd.read_csv('mestrado_baixado.csv', dtype = {'Matrícula': str})\n",
    "\n",
    "lista = mestrado_baixado['Matrícula'].tolist()\n",
    "lista[5]\n",
    "\n"
   ]
  },
  {
   "cell_type": "code",
   "execution_count": 10,
   "metadata": {},
   "outputs": [
    {
     "data": {
      "text/plain": [
       "(1941, 5)"
      ]
     },
     "execution_count": 10,
     "metadata": {},
     "output_type": "execute_result"
    }
   ],
   "source": [
    "#To select rows whose column value is in list \n",
    "#years = [1952, 2007]\n",
    "#gapminder.year.isin(years)\n",
    "\n",
    "\n",
    "df = mestrado_geral[~mestrado_geral['Matrícula'].isin(lista)]\n",
    "df.shape\n"
   ]
  },
  {
   "cell_type": "code",
   "execution_count": 11,
   "metadata": {},
   "outputs": [
    {
     "data": {
      "text/html": [
       "<div>\n",
       "<style scoped>\n",
       "    .dataframe tbody tr th:only-of-type {\n",
       "        vertical-align: middle;\n",
       "    }\n",
       "\n",
       "    .dataframe tbody tr th {\n",
       "        vertical-align: top;\n",
       "    }\n",
       "\n",
       "    .dataframe thead th {\n",
       "        text-align: right;\n",
       "    }\n",
       "</style>\n",
       "<table border=\"1\" class=\"dataframe\">\n",
       "  <thead>\n",
       "    <tr style=\"text-align: right;\">\n",
       "      <th></th>\n",
       "      <th>Matrícula</th>\n",
       "      <th>Nome</th>\n",
       "      <th>Curso</th>\n",
       "      <th>Modalidade de Ingresso</th>\n",
       "      <th>Status</th>\n",
       "    </tr>\n",
       "  </thead>\n",
       "  <tbody>\n",
       "    <tr>\n",
       "      <td>1</td>\n",
       "      <td>2018207810</td>\n",
       "      <td>ACACIO COSTA RIBEIRO</td>\n",
       "      <td>MESTRADO PROFISSIONAL EM DEFESA AGROPECUÁRIA -...</td>\n",
       "      <td>NaN</td>\n",
       "      <td>ATIVO</td>\n",
       "    </tr>\n",
       "    <tr>\n",
       "      <td>3</td>\n",
       "      <td>2018100028</td>\n",
       "      <td>ADAGILSON SILVA SENA</td>\n",
       "      <td>MESTRADO PROFISSIONAL EM MATEMÁTICA DA SOCIEDA...</td>\n",
       "      <td>NaN</td>\n",
       "      <td>ATIVO</td>\n",
       "    </tr>\n",
       "    <tr>\n",
       "      <td>4</td>\n",
       "      <td>2018105051</td>\n",
       "      <td>ADAILDES DA SILVA NASCIMENTO</td>\n",
       "      <td>NaN</td>\n",
       "      <td>NaN</td>\n",
       "      <td>CANCELADO</td>\n",
       "    </tr>\n",
       "    <tr>\n",
       "      <td>5</td>\n",
       "      <td>200820513</td>\n",
       "      <td>ADAILSON FEITOZA DE JESUS SANTOS</td>\n",
       "      <td>MESTRADO EM MICROBIOLOGIA AGRÍCOLA - MESTRADO</td>\n",
       "      <td>NaN</td>\n",
       "      <td>CONCLUÍDO</td>\n",
       "    </tr>\n",
       "    <tr>\n",
       "      <td>8</td>\n",
       "      <td>20100750</td>\n",
       "      <td>ADAILTON LIBERATO DO NASCIMENTO JUNIOR</td>\n",
       "      <td>MESTRADO EM SOLOS E QUALIDADE DOS ECOSSISTEMAS...</td>\n",
       "      <td>NaN</td>\n",
       "      <td>ATIVO</td>\n",
       "    </tr>\n",
       "  </tbody>\n",
       "</table>\n",
       "</div>"
      ],
      "text/plain": [
       "    Matrícula                                    Nome  \\\n",
       "1  2018207810                    ACACIO COSTA RIBEIRO   \n",
       "3  2018100028                    ADAGILSON SILVA SENA   \n",
       "4  2018105051            ADAILDES DA SILVA NASCIMENTO   \n",
       "5   200820513        ADAILSON FEITOZA DE JESUS SANTOS   \n",
       "8    20100750  ADAILTON LIBERATO DO NASCIMENTO JUNIOR   \n",
       "\n",
       "                                               Curso Modalidade de Ingresso  \\\n",
       "1  MESTRADO PROFISSIONAL EM DEFESA AGROPECUÁRIA -...                    NaN   \n",
       "3  MESTRADO PROFISSIONAL EM MATEMÁTICA DA SOCIEDA...                    NaN   \n",
       "4                                                NaN                    NaN   \n",
       "5      MESTRADO EM MICROBIOLOGIA AGRÍCOLA - MESTRADO                    NaN   \n",
       "8  MESTRADO EM SOLOS E QUALIDADE DOS ECOSSISTEMAS...                    NaN   \n",
       "\n",
       "      Status  \n",
       "1      ATIVO  \n",
       "3      ATIVO  \n",
       "4  CANCELADO  \n",
       "5  CONCLUÍDO  \n",
       "8      ATIVO  "
      ]
     },
     "execution_count": 11,
     "metadata": {},
     "output_type": "execute_result"
    }
   ],
   "source": [
    "df.head()"
   ]
  },
  {
   "cell_type": "code",
   "execution_count": 8,
   "metadata": {},
   "outputs": [
    {
     "data": {
      "text/html": [
       "<div>\n",
       "<style scoped>\n",
       "    .dataframe tbody tr th:only-of-type {\n",
       "        vertical-align: middle;\n",
       "    }\n",
       "\n",
       "    .dataframe tbody tr th {\n",
       "        vertical-align: top;\n",
       "    }\n",
       "\n",
       "    .dataframe thead th {\n",
       "        text-align: right;\n",
       "    }\n",
       "</style>\n",
       "<table border=\"1\" class=\"dataframe\">\n",
       "  <thead>\n",
       "    <tr style=\"text-align: right;\">\n",
       "      <th></th>\n",
       "      <th>Matrícula</th>\n",
       "      <th>Nome</th>\n",
       "      <th>Curso</th>\n",
       "      <th>Modalidade de Ingresso</th>\n",
       "      <th>Status</th>\n",
       "    </tr>\n",
       "  </thead>\n",
       "  <tbody>\n",
       "    <tr>\n",
       "      <td>0</td>\n",
       "      <td>200710468</td>\n",
       "      <td>ACACIA CYLENE ANJOS DA SILVA</td>\n",
       "      <td>MESTRADO EM CIÊNCIAS AGRÁRIAS - MESTRADO</td>\n",
       "      <td>NaN</td>\n",
       "      <td>ATIVO</td>\n",
       "    </tr>\n",
       "    <tr>\n",
       "      <td>1</td>\n",
       "      <td>200810490</td>\n",
       "      <td>ACIMAR RIBEIRO DE FREITAS</td>\n",
       "      <td>MESTRADO EM CIÊNCIAS AGRÁRIAS - MESTRADO</td>\n",
       "      <td>NaN</td>\n",
       "      <td>ATIVO</td>\n",
       "    </tr>\n",
       "    <tr>\n",
       "      <td>2</td>\n",
       "      <td>200910641</td>\n",
       "      <td>ADAILTON CONCEICAO DOS SANTOS</td>\n",
       "      <td>MESTRADO EM CIÊNCIAS AGRÁRIAS - MESTRADO</td>\n",
       "      <td>NaN</td>\n",
       "      <td>CONCLUÍDO</td>\n",
       "    </tr>\n",
       "    <tr>\n",
       "      <td>3</td>\n",
       "      <td>201110737</td>\n",
       "      <td>ADAILTON FREITAS FERREIRA</td>\n",
       "      <td>MESTRADO EM CIÊNCIAS AGRÁRIAS - MESTRADO</td>\n",
       "      <td>NaN</td>\n",
       "      <td>ATIVO</td>\n",
       "    </tr>\n",
       "    <tr>\n",
       "      <td>4</td>\n",
       "      <td>200710469</td>\n",
       "      <td>ADELMO PINHEIRO SANTOS</td>\n",
       "      <td>MESTRADO EM CIÊNCIAS AGRÁRIAS - MESTRADO</td>\n",
       "      <td>NaN</td>\n",
       "      <td>CONCLUÍDO</td>\n",
       "    </tr>\n",
       "  </tbody>\n",
       "</table>\n",
       "</div>"
      ],
      "text/plain": [
       "   Matrícula                           Nome  \\\n",
       "0  200710468   ACACIA CYLENE ANJOS DA SILVA   \n",
       "1  200810490      ACIMAR RIBEIRO DE FREITAS   \n",
       "2  200910641  ADAILTON CONCEICAO DOS SANTOS   \n",
       "3  201110737      ADAILTON FREITAS FERREIRA   \n",
       "4  200710469         ADELMO PINHEIRO SANTOS   \n",
       "\n",
       "                                      Curso Modalidade de Ingresso     Status  \n",
       "0  MESTRADO EM CIÊNCIAS AGRÁRIAS - MESTRADO                    NaN      ATIVO  \n",
       "1  MESTRADO EM CIÊNCIAS AGRÁRIAS - MESTRADO                    NaN      ATIVO  \n",
       "2  MESTRADO EM CIÊNCIAS AGRÁRIAS - MESTRADO                    NaN  CONCLUÍDO  \n",
       "3  MESTRADO EM CIÊNCIAS AGRÁRIAS - MESTRADO                    NaN      ATIVO  \n",
       "4  MESTRADO EM CIÊNCIAS AGRÁRIAS - MESTRADO                    NaN  CONCLUÍDO  "
      ]
     },
     "execution_count": 8,
     "metadata": {},
     "output_type": "execute_result"
    }
   ],
   "source": [
    "mestrado_baixado.head()"
   ]
  },
  {
   "cell_type": "code",
   "execution_count": 12,
   "metadata": {},
   "outputs": [],
   "source": [
    "#Salvando o dataset geral\n",
    "df.to_csv('mestrado_restante.csv', index=False)"
   ]
  },
  {
   "cell_type": "code",
   "execution_count": null,
   "metadata": {},
   "outputs": [],
   "source": []
  }
 ],
 "metadata": {
  "kernelspec": {
   "display_name": "Python 3",
   "language": "python",
   "name": "python3"
  },
  "language_info": {
   "codemirror_mode": {
    "name": "ipython",
    "version": 3
   },
   "file_extension": ".py",
   "mimetype": "text/x-python",
   "name": "python",
   "nbconvert_exporter": "python",
   "pygments_lexer": "ipython3",
   "version": "3.8.7"
  }
 },
 "nbformat": 4,
 "nbformat_minor": 2
}
