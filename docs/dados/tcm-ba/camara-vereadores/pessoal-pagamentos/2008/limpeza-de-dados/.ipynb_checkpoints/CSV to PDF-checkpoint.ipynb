{
 "cells": [
  {
   "cell_type": "code",
   "execution_count": null,
   "id": "further-mentor",
   "metadata": {},
   "outputs": [],
   "source": [
    "import csv\n",
    "import pandas as pd \n",
    "from fpdf import FPDF\n",
    "from PIL import Image\n",
    "\n",
    "mess = 'o'\n",
    "arquivo = 'dados-limpos/' + mess + '-2008-limpo'\n",
    "arquivo_n = 'dados-limpos/pdf/' + mess + '-2008-pdf'\n",
    "df = pd.read_csv(arquivo + '.csv')\n",
    "\n",
    "df_sum = df['Valor Recebido'].sum()\n",
    "mes = df['Mês'][0]\n",
    "ano = df['Ano'][0]\n",
    "\n",
    "with open(arquivo + '.csv', encoding='utf-8') as f:\n",
    "    \n",
    "    reader = csv.reader(f)\n",
    "    \n",
    "    pdf = FPDF(orientation='L', unit='mm', format='A3')\n",
    "    pdf.add_page()\n",
    "    pdf.alias_nb_pages()\n",
    "    page_width = pdf.w - 2 * pdf.l_margin\n",
    "    \n",
    "    pdf.set_font('helvetica','B',12.0) \n",
    "    pdf.cell(page_width, 0.0, f'Folha de Pagamento - Mês: {mes} | Ano: {ano}: Câmara Municipal de Vereadores de Tucano/BA.', align='C')\n",
    "    pdf.cell(-400, 15, f'Fonte de dados: Tribunal de Contas dos Municípios(TCM/BA). Site: https://www.tcm.ba.gov.br/portal-da-cidadania/pessoal/. Valor total de vencimentos:R$ {df_sum:.2f}.', align='C')\n",
    "    #pdf.cell(50, 5, f'Dados tratados por:', align='C')\n",
    "    pdf.image('logo-topo.png', 180,25,70, link='https://dadosabertostucano.org')\n",
    "    pdf.ln(40)\n",
    "\n",
    "    pdf.set_font('helvetica', '', 10)\n",
    "    col_width = page_width/10\n",
    "    pdf.ln(1)\n",
    "    th = 9\n",
    "    pdf.image('logo.png', 75,115, 283)\n",
    "    for row in reader:\n",
    "        #print(row)\n",
    "        pdf.cell(91, th, str(row[0]), border=1)\n",
    "        pdf.cell(20, th, row[1], border=1)\n",
    "        pdf.cell(45, th, row[2], border=1)\n",
    "        pdf.cell(25, th, row[3], border=1)\n",
    "        pdf.cell(15, th, row[4], border=1)\n",
    "        pdf.cell(60, th, row[5], border=1)\n",
    "        pdf.cell(28, th, row[6], border=1)\n",
    "        pdf.cell(35, th, row[7], border=1)\n",
    "        pdf.cell(35, th, row[8], border=1)\n",
    "        pdf.cell(35, th, row[9], border=1)\n",
    "        pdf.ln(th)\n",
    "        \n",
    "    pdf.ln(10)\n",
    "    \n",
    "    pdf.set_font('helvetica','',14.0) \n",
    "    pdf.cell(page_width, 30, f'Acesse: https://dadosabertostucano.org', align='C')\n",
    "    pdf.image('logo.png', 75,115, 283, link='https://dadosabertostucano.org')\n",
    "    pdf.output(arquivo_n + '.pdf', 'F')"
   ]
  },
  {
   "cell_type": "markdown",
   "id": "discrete-organ",
   "metadata": {},
   "source": [
    "## Comandos da Biblioteca PyFPDF \n"
   ]
  },
  {
   "cell_type": "code",
   "execution_count": null,
   "id": "intense-lending",
   "metadata": {},
   "outputs": [],
   "source": [
    "from fpdf import FPDF\n",
    "\n",
    "pdf = FPDF()\n",
    "#pdf = FPDF('P', 'mm', 'A4')\n",
    "pdf.add_page()\n",
    "pdf.set_font('Arial', 'B', 16)\n",
    "pdf.cell(40, 10, 'Hello World!')\n",
    "pdf.cell(60, 10, 'Powered by FPDF.', 0, 1, 'C')\n",
    "pdf.output('tuto1.pdf', 'F')"
   ]
  },
  {
   "cell_type": "code",
   "execution_count": null,
   "id": "norwegian-collection",
   "metadata": {},
   "outputs": [],
   "source": [
    "from fpdf import FPDF\n",
    "#https://pyfpdf.readthedocs.io/en/latest/Tutorial/index.html\n",
    "class PDF(FPDF):\n",
    "    def header(self):\n",
    "        # Logo\n",
    "        #método de imagem especificando seu canto superior esquerdo e\n",
    "        #sua largura. A altura é calculada automaticamente para respeitar as proporções da imagem.\n",
    "        self.image('logo_pb.png', 10, 8, 33)\n",
    "        # Arial bold 15\n",
    "        self.set_font('Arial', 'B', 15)\n",
    "        # Move to the right\n",
    "        self.cell(80)\n",
    "        # Title\n",
    "        self.cell(30, 10, 'Title', 1, 0, 'C')\n",
    "        # Line break\n",
    "        self.ln(20)\n",
    "\n",
    "    # Page footer\n",
    "    def footer(self):\n",
    "        # Position at 1.5 cm from bottom\n",
    "        self.set_y(-15)\n",
    "        # Arial italic 8\n",
    "        self.set_font('Arial', 'I', 8)\n",
    "        # Page number\n",
    "        self.cell(0, 10, 'Page ' + str(self.page_no()) + '/{nb}', 0, 0, 'C')\n",
    "\n",
    "# Instantiation of inherited class\n",
    "pdf = PDF()\n",
    "pdf.alias_nb_pages()\n",
    "pdf.add_page()\n",
    "pdf.set_font('Times', '', 12)\n",
    "for i in range(1, 41):\n",
    "    pdf.cell(0, 10, 'Printing line number ' + str(i), 0, 1)\n",
    "pdf.output('tuto2.pdf', 'F')"
   ]
  },
  {
   "cell_type": "code",
   "execution_count": 99,
   "id": "found-league",
   "metadata": {},
   "outputs": [
    {
     "data": {
      "text/plain": [
       "''"
      ]
     },
     "execution_count": 99,
     "metadata": {},
     "output_type": "execute_result"
    }
   ],
   "source": [
    "from fpdf import FPDF\n",
    "from PIL import Image\n",
    "\n",
    "pdf = FPDF(orientation='L', format='A3')\n",
    "pdf.add_page()\n",
    "\n",
    "# creating a new image file with light blue color with A4 size dimensions using PIL\n",
    "#img = Image.new('RGB', (210,297), \"#afeafe\" )\n",
    "#img.save('logo-dados-abertos.png')\n",
    "\n",
    "# adding image to pdf page that e created using fpdf\n",
    "pdf.image('logo.png', 75,115, 283)\n",
    "\n",
    "# setting font and size and writing text to cell\n",
    "pdf.set_font(\"Arial\", size=12)\n",
    "pdf.cell(ln=200, h=40, align='L', w=0, txt=\"Hello World\", border=0,fill = False)\n",
    "pdf.output(\"test5.pdf\", 'F')"
   ]
  },
  {
   "cell_type": "code",
   "execution_count": null,
   "id": "expired-machinery",
   "metadata": {},
   "outputs": [],
   "source": []
  }
 ],
 "metadata": {
  "kernelspec": {
   "display_name": "Python 3",
   "language": "python",
   "name": "python3"
  },
  "language_info": {
   "codemirror_mode": {
    "name": "ipython",
    "version": 3
   },
   "file_extension": ".py",
   "mimetype": "text/x-python",
   "name": "python",
   "nbconvert_exporter": "python",
   "pygments_lexer": "ipython3",
   "version": "3.8.7"
  }
 },
 "nbformat": 4,
 "nbformat_minor": 5
}
