{
 "cells": [
  {
   "cell_type": "markdown",
   "metadata": {},
   "source": [
    "### Prioridade: \n",
    "\n",
    "[Curso Udemy](https://www.udemy.com/python-para-data-science-e-machine-learning/learn/v4/t/lecture/8290190?start=0) \n",
    "\n",
    "[Ótimo artigo](https://medium.com/data-hackers/uma-introdu%C3%A7%C3%A3o-simples-ao-pandas-1e15eea37fa1)\n",
    "\n",
    "[Anaconda Udacity](https://classroom.udacity.com/courses/ud1111/lessons/b15ba0a2-015d-4c5a-87ae-9efba2cabb43/concepts/74d96c44-fadc-4499-8c33-c48c4b4c73e4) \n",
    "\n",
    "[Melhor dos Jupyter Notebooks](https://towardsdatascience.com/bringing-the-best-out-of-jupyter-notebooks-for-data-science-f0871519ca29)\n",
    "\n",
    "[Artigo: Quanto dinheiro se gasta](https://medium.com/ensina-ai/quanto-dinheiro-gasta-um-pol%C3%ADtico-brasileiro-467bbcac8f40)\n",
    "\n",
    "[Prevendo nota do ENEM](https://medium.com/ensina-ai/machine-learning-randomforest-para-prever-nota-de-matem%C3%A1tica-do-enem-2016-8893b73882f4)\n",
    "\n",
    "[jupyter Notebook - Educação](https://github.com/gabiviana93/dados-educacao/blob/master/Tutorial%20-%20S%C3%A9rie%20Hist%C3%B3rica%20-%20Totais/Serie_historica_Totais.ipynb) \n",
    "\n",
    "[Blog Dataquest](https://www.dataquest.io/blog/) \n",
    "\n",
    "[Visualização Gráficos](https://towardsdatascience.com/the-next-level-of-data-visualization-in-python-dd6e99039d5e)\n",
    "\n",
    "[Trabalhando com Grande Volume de dados](https://www.dataquest.io/blog/pandas-big-data/)\n",
    "\n",
    "\n",
    "\n",
    "[Básico de manipulação](https://towardsdatascience.com/basic-time-series-manipulation-with-pandas-4432afee64ea) \n",
    "\n",
    ">[Merge Pandas](https://stackoverflow.com/questions/48051100/python-pandas-merge-multiple-csv-files?rq=1)\n",
    "\n",
    ">[Merge Kaggle](https://www.kaggle.com/crawford/python-merge-tutorial)\n",
    "\n",
    "[Pandas](https://pandas.pydata.org/pandas-docs/version/0.22/generated/pandas.testing.assert_frame_equal.html)\n",
    "\n",
    "[Data Science Academy](https://www.datascienceacademy.com.br/?msg=not-logged-in)\n",
    "\n",
    "[Paulo Vasconcelos - Primeiro Projeto](https://paulovasconcellos.com.br/como-criar-seu-primeiro-projeto-de-data-science-parte-2-de-2-cb9a2fe05eff)\n",
    "\n",
    "[Paulo Vasconcellos - Acidentes Aeros](https://paulovasconcellos.com.br/um-estudo-sobre-acidentes-a%C3%A9reos-no-brasil-nos-%C3%BAltimos-10-anos-data-science-project-96d9dc531fa5)\n",
    "\n",
    "[Data Science](https://towardsdatascience.com/data-science/home)\n",
    "\n",
    "[Tutorial Dataquest Concatenação](https://www.dataquest.io/blog/pandas-concatenation-tutorial/)\n",
    "\n",
    "[Concatenação](https://pandas.pydata.org/pandas-docs/version/0.23.4/generated/pandas.concat.html)\n",
    "\n",
    "[Portal da Transparência - Despesas](http://www.portaltransparencia.gov.br/download-de-dados/despesas)\n",
    "\n",
    "[Letícia Portela - Acidentes](https://leportella.com/english/2019/01/02/federal-road-accidents-II.html)\n",
    "\n",
    "[Boletim 2019 - UFRB](https://www.ufrb.edu.br/progep/documentos/category/65-ano-2019)\n",
    "\n",
    "[Dicionário de dados - Portal da Transparência](http://www.portaldatransparencia.gov.br/pagina-interna/603422-dicionario-de-dados-servidores-cadastro) \n",
    "\n",
    "[Data Science 2](https://towardsdatascience.com/data-science-skills-web-scraping-using-python-d1a85ef607ed)\n",
    "\n",
    "[TCM Municípios](http://www.tcm.ba.gov.br/portal-da-cidadania/pessoal/) \n",
    "\n",
    "[Tutorial](https://www.kaggle.com/kanncaa1/data-sciencetutorial-for-beginners)\n",
    "\n",
    "\n",
    "Fonte: https://stackoverflow.com/questions/20906474/import-multiple-csv-files-into-pandas-and-concatenate-into-one-dataframe"
   ]
  },
  {
   "cell_type": "code",
   "execution_count": 1,
   "metadata": {},
   "outputs": [],
   "source": [
    "#importe a biblioteca usada para consultar uma URL\n",
    "import urllib.request\n",
    "\n",
    "#importe as funções BeautifulSoup para analisar os dados retornados do site\n",
    "from bs4 import BeautifulSoup"
   ]
  },
  {
   "cell_type": "code",
   "execution_count": 38,
   "metadata": {},
   "outputs": [
    {
     "data": {
      "text/html": [
       "<div>\n",
       "<style scoped>\n",
       "    .dataframe tbody tr th:only-of-type {\n",
       "        vertical-align: middle;\n",
       "    }\n",
       "\n",
       "    .dataframe tbody tr th {\n",
       "        vertical-align: top;\n",
       "    }\n",
       "\n",
       "    .dataframe thead th {\n",
       "        text-align: right;\n",
       "    }\n",
       "</style>\n",
       "<table border=\"1\" class=\"dataframe\">\n",
       "  <thead>\n",
       "    <tr style=\"text-align: right;\">\n",
       "      <th></th>\n",
       "      <th>Funcionário</th>\n",
       "      <th>CPF/Matrícula</th>\n",
       "      <th>Cargo</th>\n",
       "      <th>Mês de Referência</th>\n",
       "      <th>Salário Bruto</th>\n",
       "      <th>Salário Líquido</th>\n",
       "    </tr>\n",
       "  </thead>\n",
       "  <tbody>\n",
       "    <tr>\n",
       "      <th>0</th>\n",
       "      <td>APARECIDA SANTANA DE MIRANDA</td>\n",
       "      <td>#366</td>\n",
       "      <td>GUARDA CIVIL MUNICIPAL</td>\n",
       "      <td>Nov/2020</td>\n",
       "      <td>R$ 2.050,19</td>\n",
       "      <td>R$ 1.443,54</td>\n",
       "    </tr>\n",
       "    <tr>\n",
       "      <th>1</th>\n",
       "      <td>ARACELLY MACEDO NUNES</td>\n",
       "      <td>769</td>\n",
       "      <td>AGENTE ADMINISTRATIVO</td>\n",
       "      <td>Nov/2020</td>\n",
       "      <td>R$ 1.469,95</td>\n",
       "      <td>R$ 976,57</td>\n",
       "    </tr>\n",
       "    <tr>\n",
       "      <th>2</th>\n",
       "      <td>ARIANA SANTANA MONTINO</td>\n",
       "      <td>#390</td>\n",
       "      <td>PROFESSOR NIVEL ESPECIAL</td>\n",
       "      <td>Nov/2020</td>\n",
       "      <td>R$ 1.892,35</td>\n",
       "      <td>R$ 1.737,72</td>\n",
       "    </tr>\n",
       "    <tr>\n",
       "      <th>3</th>\n",
       "      <td>ARIANE BARRETO MAGALHAES</td>\n",
       "      <td>#647</td>\n",
       "      <td>PROFESSOR NIVEL II</td>\n",
       "      <td>Nov/2020</td>\n",
       "      <td>R$ 3.455,29</td>\n",
       "      <td>R$ 2.517,42</td>\n",
       "    </tr>\n",
       "    <tr>\n",
       "      <th>4</th>\n",
       "      <td>ARIANE BARRETO MAGALHAES</td>\n",
       "      <td>##576</td>\n",
       "      <td>PROFESSOR NIVEL II</td>\n",
       "      <td>Nov/2020</td>\n",
       "      <td>R$ 3.356,60</td>\n",
       "      <td>R$ 3.004,95</td>\n",
       "    </tr>\n",
       "  </tbody>\n",
       "</table>\n",
       "</div>"
      ],
      "text/plain": [
       "                    Funcionário CPF/Matrícula                     Cargo  \\\n",
       "0  APARECIDA SANTANA DE MIRANDA          #366    GUARDA CIVIL MUNICIPAL   \n",
       "1         ARACELLY MACEDO NUNES           769     AGENTE ADMINISTRATIVO   \n",
       "2        ARIANA SANTANA MONTINO          #390  PROFESSOR NIVEL ESPECIAL   \n",
       "3      ARIANE BARRETO MAGALHAES          #647        PROFESSOR NIVEL II   \n",
       "4      ARIANE BARRETO MAGALHAES         ##576        PROFESSOR NIVEL II   \n",
       "\n",
       "  Mês de Referência Salário Bruto Salário Líquido  \n",
       "0          Nov/2020   R$ 2.050,19     R$ 1.443,54  \n",
       "1          Nov/2020   R$ 1.469,95       R$ 976,57  \n",
       "2          Nov/2020   R$ 1.892,35     R$ 1.737,72  \n",
       "3          Nov/2020   R$ 3.455,29     R$ 2.517,42  \n",
       "4          Nov/2020   R$ 3.356,60     R$ 3.004,95  "
      ]
     },
     "execution_count": 38,
     "metadata": {},
     "output_type": "execute_result"
    }
   ],
   "source": [
    "#C:\\Users\\Andre\\Desktop\\Dados2\n",
    "#C:\\Users\\Aluno\\Dropbox\\Dados\\Dados2\\Novo_IRA\n",
    "wiki_2 = 'file:///C:/Users/Micro/Documents/repo/dadosabertostucano.github.io/docs/docs/dados/tcm-ba/camara-vereadores/pessoal-pagamentos/2010/limpar_html/dez-2010.html'\n",
    "page_2 = urllib.request.urlopen(wiki_2)\n",
    "\n",
    "soup = BeautifulSoup(page_2, 'html5lib')\n",
    "all_table = soup.find_all('table')\n",
    "#table = soup.find('table')\n",
    "table = soup.find('table', attrs={'class': 'table table-condensed table-stripped table-hover'})\n",
    "#class=\"listagem\"\n",
    "\n",
    "A=[]\n",
    "B=[]\n",
    "C=[]\n",
    "D=[]\n",
    "E=[]\n",
    "F=[]\n",
    "\n",
    "for row in table.findAll(\"tr\"): #para tudo que estiver em <tr>\n",
    "    cells = row.findAll('td') #variável para encontrar <td>\n",
    "    if len(cells)==6: #número de colunas\n",
    "        A.append(cells[0].find(text=True)) #iterando sobre cada linha\n",
    "        B.append(cells[1].find(text=True))\n",
    "        C.append(cells[2].find(text=True))\n",
    "        D.append(cells[3].find(text=True))\n",
    "        E.append(cells[4].find(text=True))\n",
    "        F.append(cells[5].find(text=True))\n",
    "\n",
    "import pandas as pd\n",
    "\n",
    "df = pd.DataFrame(columns=['Funcionário'])\n",
    "\n",
    "df['Funcionário']=A\n",
    "df['CPF/Matrícula']=B\n",
    "df['Cargo']=C\n",
    "df['Mês de Referência']=D\n",
    "df['Salário Bruto']=E\n",
    "df['Salário Líquido']=F\n",
    "\n",
    "\n",
    "df.head()"
   ]
  },
  {
   "cell_type": "code",
   "execution_count": 39,
   "metadata": {},
   "outputs": [],
   "source": [
    "df.to_csv('tcm-tucano-pessoal/folha-pessoal-pagina-18.csv', index=False, encoding='utf-8')"
   ]
  },
  {
   "cell_type": "code",
   "execution_count": 73,
   "metadata": {},
   "outputs": [],
   "source": [
    "x = range(150)"
   ]
  },
  {
   "cell_type": "code",
   "execution_count": 74,
   "metadata": {},
   "outputs": [
    {
     "data": {
      "text/plain": [
       "range(0, 150)"
      ]
     },
     "execution_count": 74,
     "metadata": {},
     "output_type": "execute_result"
    }
   ],
   "source": [
    "x"
   ]
  },
  {
   "cell_type": "code",
   "execution_count": 75,
   "metadata": {},
   "outputs": [
    {
     "data": {
      "text/plain": [
       "3"
      ]
     },
     "execution_count": 75,
     "metadata": {},
     "output_type": "execute_result"
    }
   ],
   "source": [
    "x[3]"
   ]
  },
  {
   "cell_type": "code",
   "execution_count": 77,
   "metadata": {},
   "outputs": [],
   "source": [
    "lista = list(x)"
   ]
  },
  {
   "cell_type": "code",
   "execution_count": 83,
   "metadata": {},
   "outputs": [
    {
     "data": {
      "text/plain": [
       "'/teste/folha-pessoal-pagina-149.csv'"
      ]
     },
     "execution_count": 83,
     "metadata": {},
     "output_type": "execute_result"
    }
   ],
   "source": [
    "file = '/teste/folha-pessoal-pagina-' + str(lista[i]) + '.csv'\n",
    "file"
   ]
  },
  {
   "cell_type": "code",
   "execution_count": 95,
   "metadata": {},
   "outputs": [
    {
     "data": {
      "text/plain": [
       "'file:///C:/Users/Micro/Documents/Folha Pessoal Tucano/folha-pessoal-pagina-0.html'"
      ]
     },
     "execution_count": 95,
     "metadata": {},
     "output_type": "execute_result"
    }
   ],
   "source": [
    "wiki_2 = f'file:///C:/Users/Micro/Documents/Folha Pessoal Tucano/folha-pessoal-pagina-{str(lista[0])}.html'\n",
    "wiki_2"
   ]
  },
  {
   "cell_type": "code",
   "execution_count": 97,
   "metadata": {},
   "outputs": [],
   "source": [
    "for i in lista: \n",
    "    wiki_2 = f'file:///C:/Users/Micro/Documents/Folha Pessoal Tucano/folha-pessoal-pagina-{str(lista[i])}.html'\n",
    "    page_2 = urllib.request.urlopen(wiki_2)\n",
    "\n",
    "    soup = BeautifulSoup(page_2, 'html5lib')\n",
    "    all_table = soup.find_all('table')\n",
    "    #table = soup.find('table')\n",
    "    table = soup.find('table', attrs={'class': 'table table-condensed table-stripped table-hover'})\n",
    "    #class=\"listagem\"\n",
    "\n",
    "    A=[]\n",
    "    B=[]\n",
    "    C=[]\n",
    "    D=[]\n",
    "    E=[]\n",
    "    F=[]\n",
    "\n",
    "    for row in table.findAll(\"tr\"):#para tudo que estiver em <tr>\n",
    "        cells = row.findAll('td') #variável para encontrar <td>\n",
    "        if len(cells)==6: #número de colunas\n",
    "            A.append(cells[0].find(text=True)) #iterando sobre cada linha\n",
    "            B.append(cells[1].find(text=True))\n",
    "            C.append(cells[2].find(text=True))\n",
    "            D.append(cells[3].find(text=True))\n",
    "            E.append(cells[4].find(text=True))\n",
    "            F.append(cells[5].find(text=True))\n",
    "\n",
    "    import pandas as pd\n",
    "\n",
    "    df = pd.DataFrame(columns=['Funcionário'])\n",
    "\n",
    "    df['Funcionário']=A\n",
    "    df['CPF/Matrícula']=B\n",
    "    df['Cargo']=C\n",
    "    df['Mês de Referência']=D\n",
    "    df['Salário Bruto']=E\n",
    "    df['Salário Líquido']=F\n",
    "    \n",
    "    file = 'teste/folha-pessoal-pagina-' + str(lista[i]) + '.csv'\n",
    "    \n",
    "    df.to_csv(file, index=False, encoding='utf-8')"
   ]
  },
  {
   "cell_type": "code",
   "execution_count": 82,
   "metadata": {},
   "outputs": [
    {
     "data": {
      "text/plain": [
       "'file:///C:/Users/Micro/Documents/Folha Pessoal Tucano/folha-pessoal-pagina-149.html'"
      ]
     },
     "execution_count": 82,
     "metadata": {},
     "output_type": "execute_result"
    }
   ],
   "source": [
    "wiki_2"
   ]
  },
  {
   "cell_type": "code",
   "execution_count": null,
   "metadata": {},
   "outputs": [],
   "source": []
  }
 ],
 "metadata": {
  "kernelspec": {
   "display_name": "Python 3",
   "language": "python",
   "name": "python3"
  },
  "language_info": {
   "codemirror_mode": {
    "name": "ipython",
    "version": 3
   },
   "file_extension": ".py",
   "mimetype": "text/x-python",
   "name": "python",
   "nbconvert_exporter": "python",
   "pygments_lexer": "ipython3",
   "version": "3.8.7"
  }
 },
 "nbformat": 4,
 "nbformat_minor": 2
}
