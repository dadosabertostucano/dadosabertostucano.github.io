{
 "cells": [
  {
   "cell_type": "code",
   "execution_count": 3,
   "metadata": {},
   "outputs": [
    {
     "data": {
      "text/plain": [
       "['./data\\\\201220135LARISSA ISABELLE BORGES LIMA.pdf',\n",
       " './data\\\\201321294ANA MARIA VIEIRA DA SILVA.pdf',\n",
       " './data\\\\201321300ALINE MENEZES DE SOUZA SANTANA.pdf',\n",
       " './data\\\\201321304DANILO SANTOS OLIVEIRA.pdf',\n",
       " './data\\\\201321307DANIELA SANTOS DE JESUS.pdf']"
      ]
     },
     "execution_count": 3,
     "metadata": {},
     "output_type": "execute_result"
    }
   ],
   "source": [
    "from PyPDF2 import PdfFileReader\n",
    "from nltk.tokenize import SpaceTokenizer \n",
    "import pandas as pd\n",
    "import os\n",
    "import re\n",
    "import numpy as np\n",
    "\n",
    "\n",
    "root_path = './data'\n",
    "pdf_files = []\n",
    "\n",
    "# get all pdf files\n",
    "for dir_path, dir_names, filenames in os.walk(root_path):\n",
    "    for filename in [f for f in filenames if f.endswith(\".pdf\")]:\n",
    "        pdf_files.append(os.path.join(dir_path, filename))\n",
    "pdf_files"
   ]
  },
  {
   "cell_type": "code",
   "execution_count": 9,
   "metadata": {},
   "outputs": [
    {
     "data": {
      "text/html": [
       "<div>\n",
       "<style scoped>\n",
       "    .dataframe tbody tr th:only-of-type {\n",
       "        vertical-align: middle;\n",
       "    }\n",
       "\n",
       "    .dataframe tbody tr th {\n",
       "        vertical-align: top;\n",
       "    }\n",
       "\n",
       "    .dataframe thead th {\n",
       "        text-align: right;\n",
       "    }\n",
       "</style>\n",
       "<table border=\"1\" class=\"dataframe\">\n",
       "  <thead>\n",
       "    <tr style=\"text-align: right;\">\n",
       "      <th></th>\n",
       "      <th>0</th>\n",
       "    </tr>\n",
       "  </thead>\n",
       "  <tbody>\n",
       "    <tr>\n",
       "      <th>0</th>\n",
       "      <td>./data\\201220135LARISSA ISABELLE BORGES LIMA.pdf</td>\n",
       "    </tr>\n",
       "    <tr>\n",
       "      <th>1</th>\n",
       "      <td>./data\\201321294ANA MARIA VIEIRA DA SILVA.pdf</td>\n",
       "    </tr>\n",
       "    <tr>\n",
       "      <th>2</th>\n",
       "      <td>./data\\201321300ALINE MENEZES DE SOUZA SANTANA.pdf</td>\n",
       "    </tr>\n",
       "    <tr>\n",
       "      <th>3</th>\n",
       "      <td>./data\\201321304DANILO SANTOS OLIVEIRA.pdf</td>\n",
       "    </tr>\n",
       "    <tr>\n",
       "      <th>4</th>\n",
       "      <td>./data\\201321307DANIELA SANTOS DE JESUS.pdf</td>\n",
       "    </tr>\n",
       "  </tbody>\n",
       "</table>\n",
       "</div>"
      ],
      "text/plain": [
       "                                                    0\n",
       "0  ./data\\201220135LARISSA ISABELLE BORGES LIMA.pdf  \n",
       "1  ./data\\201321294ANA MARIA VIEIRA DA SILVA.pdf     \n",
       "2  ./data\\201321300ALINE MENEZES DE SOUZA SANTANA.pdf\n",
       "3  ./data\\201321304DANILO SANTOS OLIVEIRA.pdf        \n",
       "4  ./data\\201321307DANIELA SANTOS DE JESUS.pdf       "
      ]
     },
     "execution_count": 9,
     "metadata": {},
     "output_type": "execute_result"
    }
   ],
   "source": [
    "data_novo = [pdf_files]\n",
    "\n",
    "df_arquivo = pd.DataFrame.from_records(data_novo)\n",
    "df4 = df_arquivo.T\n",
    "df4"
   ]
  },
  {
   "cell_type": "code",
   "execution_count": 10,
   "metadata": {},
   "outputs": [],
   "source": [
    "df4.columns = ['arquivos']\n"
   ]
  },
  {
   "cell_type": "code",
   "execution_count": 11,
   "metadata": {},
   "outputs": [
    {
     "data": {
      "text/html": [
       "<div>\n",
       "<style scoped>\n",
       "    .dataframe tbody tr th:only-of-type {\n",
       "        vertical-align: middle;\n",
       "    }\n",
       "\n",
       "    .dataframe tbody tr th {\n",
       "        vertical-align: top;\n",
       "    }\n",
       "\n",
       "    .dataframe thead th {\n",
       "        text-align: right;\n",
       "    }\n",
       "</style>\n",
       "<table border=\"1\" class=\"dataframe\">\n",
       "  <thead>\n",
       "    <tr style=\"text-align: right;\">\n",
       "      <th></th>\n",
       "      <th>arquivos</th>\n",
       "    </tr>\n",
       "  </thead>\n",
       "  <tbody>\n",
       "    <tr>\n",
       "      <th>0</th>\n",
       "      <td>./data\\201220135LARISSA ISABELLE BORGES LIMA.pdf</td>\n",
       "    </tr>\n",
       "    <tr>\n",
       "      <th>1</th>\n",
       "      <td>./data\\201321294ANA MARIA VIEIRA DA SILVA.pdf</td>\n",
       "    </tr>\n",
       "    <tr>\n",
       "      <th>2</th>\n",
       "      <td>./data\\201321300ALINE MENEZES DE SOUZA SANTANA.pdf</td>\n",
       "    </tr>\n",
       "    <tr>\n",
       "      <th>3</th>\n",
       "      <td>./data\\201321304DANILO SANTOS OLIVEIRA.pdf</td>\n",
       "    </tr>\n",
       "    <tr>\n",
       "      <th>4</th>\n",
       "      <td>./data\\201321307DANIELA SANTOS DE JESUS.pdf</td>\n",
       "    </tr>\n",
       "  </tbody>\n",
       "</table>\n",
       "</div>"
      ],
      "text/plain": [
       "                                             arquivos\n",
       "0  ./data\\201220135LARISSA ISABELLE BORGES LIMA.pdf  \n",
       "1  ./data\\201321294ANA MARIA VIEIRA DA SILVA.pdf     \n",
       "2  ./data\\201321300ALINE MENEZES DE SOUZA SANTANA.pdf\n",
       "3  ./data\\201321304DANILO SANTOS OLIVEIRA.pdf        \n",
       "4  ./data\\201321307DANIELA SANTOS DE JESUS.pdf       "
      ]
     },
     "execution_count": 11,
     "metadata": {},
     "output_type": "execute_result"
    }
   ],
   "source": [
    "df4"
   ]
  },
  {
   "cell_type": "code",
   "execution_count": 22,
   "metadata": {},
   "outputs": [],
   "source": [
    "df4['arquivos2'] = df4['arquivos'].apply(lambda x: x[7:])\n",
    "df4['arquivos3'] = df4['arquivos'].apply(lambda x: x[7:19])   "
   ]
  },
  {
   "cell_type": "code",
   "execution_count": 23,
   "metadata": {},
   "outputs": [
    {
     "data": {
      "text/html": [
       "<div>\n",
       "<style scoped>\n",
       "    .dataframe tbody tr th:only-of-type {\n",
       "        vertical-align: middle;\n",
       "    }\n",
       "\n",
       "    .dataframe tbody tr th {\n",
       "        vertical-align: top;\n",
       "    }\n",
       "\n",
       "    .dataframe thead th {\n",
       "        text-align: right;\n",
       "    }\n",
       "</style>\n",
       "<table border=\"1\" class=\"dataframe\">\n",
       "  <thead>\n",
       "    <tr style=\"text-align: right;\">\n",
       "      <th></th>\n",
       "      <th>arquivos</th>\n",
       "      <th>arquivos2</th>\n",
       "      <th>arquivos3</th>\n",
       "    </tr>\n",
       "  </thead>\n",
       "  <tbody>\n",
       "    <tr>\n",
       "      <th>0</th>\n",
       "      <td>./data\\201220135LARISSA ISABELLE BORGES LIMA.pdf</td>\n",
       "      <td>201220135LARISSA ISABELLE BORGES LIMA.pdf</td>\n",
       "      <td>201220135LAR</td>\n",
       "    </tr>\n",
       "    <tr>\n",
       "      <th>1</th>\n",
       "      <td>./data\\201321294ANA MARIA VIEIRA DA SILVA.pdf</td>\n",
       "      <td>201321294ANA MARIA VIEIRA DA SILVA.pdf</td>\n",
       "      <td>201321294ANA</td>\n",
       "    </tr>\n",
       "    <tr>\n",
       "      <th>2</th>\n",
       "      <td>./data\\201321300ALINE MENEZES DE SOUZA SANTANA.pdf</td>\n",
       "      <td>201321300ALINE MENEZES DE SOUZA SANTANA.pdf</td>\n",
       "      <td>201321300ALI</td>\n",
       "    </tr>\n",
       "    <tr>\n",
       "      <th>3</th>\n",
       "      <td>./data\\201321304DANILO SANTOS OLIVEIRA.pdf</td>\n",
       "      <td>201321304DANILO SANTOS OLIVEIRA.pdf</td>\n",
       "      <td>201321304DAN</td>\n",
       "    </tr>\n",
       "    <tr>\n",
       "      <th>4</th>\n",
       "      <td>./data\\201321307DANIELA SANTOS DE JESUS.pdf</td>\n",
       "      <td>201321307DANIELA SANTOS DE JESUS.pdf</td>\n",
       "      <td>201321307DAN</td>\n",
       "    </tr>\n",
       "  </tbody>\n",
       "</table>\n",
       "</div>"
      ],
      "text/plain": [
       "                                             arquivos  \\\n",
       "0  ./data\\201220135LARISSA ISABELLE BORGES LIMA.pdf     \n",
       "1  ./data\\201321294ANA MARIA VIEIRA DA SILVA.pdf        \n",
       "2  ./data\\201321300ALINE MENEZES DE SOUZA SANTANA.pdf   \n",
       "3  ./data\\201321304DANILO SANTOS OLIVEIRA.pdf           \n",
       "4  ./data\\201321307DANIELA SANTOS DE JESUS.pdf          \n",
       "\n",
       "                                     arquivos2     arquivos3  \n",
       "0  201220135LARISSA ISABELLE BORGES LIMA.pdf    201220135LAR  \n",
       "1  201321294ANA MARIA VIEIRA DA SILVA.pdf       201321294ANA  \n",
       "2  201321300ALINE MENEZES DE SOUZA SANTANA.pdf  201321300ALI  \n",
       "3  201321304DANILO SANTOS OLIVEIRA.pdf          201321304DAN  \n",
       "4  201321307DANIELA SANTOS DE JESUS.pdf         201321307DAN  "
      ]
     },
     "execution_count": 23,
     "metadata": {},
     "output_type": "execute_result"
    }
   ],
   "source": [
    "df4"
   ]
  },
  {
   "cell_type": "code",
   "execution_count": null,
   "metadata": {},
   "outputs": [],
   "source": [
    "for index, row in df4.iterrows():\n",
    "        last_name = row['nome']"
   ]
  },
  {
   "cell_type": "code",
   "execution_count": 26,
   "metadata": {},
   "outputs": [],
   "source": [
    "import tabula\n",
    "import pandas as pd\n",
    "pd.set_option(\"display.max_columns\", 200)\n",
    "#pd.options.display.max_colwidth = 300\n",
    "pd.set_option('display.max_colwidth', -1)\n",
    "\n",
    "\n",
    "for index, row in df4.iterrows():\n",
    "    \n",
    "    file = row['arquivos2']\n",
    "    df = tabula.read_pdf(file, pages = 'all', stream = True, guess=False, header=0, pandas_options={'header': None})\n",
    "    #df = tabula.read_pdf(file, pages = 'all', stream = True, guess=True, header=0, pandas_options={'header': None})\n",
    "\n",
    "    df.columns = ['coluna1']\n",
    "\n",
    "    df['nova'] = df['coluna1'].apply(lambda x: x.split('Nome:')[-1])\n",
    "\n",
    "    df['nova2'] = df['nova'].apply(lambda x: x.split('Matrícula:')[0])\n",
    "\n",
    "    df['matricula1'] = df['coluna1'].apply(lambda x: x.split('Matrícula:')[-1])\n",
    "\n",
    "    df['CPF'] = df['coluna1'].apply(lambda x: x.split('CPF:')[-1])\n",
    "\n",
    "    df['pai1'] = df['coluna1'].apply(lambda x: x.split('Nome do Pai:')[-1])\n",
    "\n",
    "    df['pai2'] = df['pai1'].apply(lambda x: x.split('Nacionalidade:')[0])\n",
    "\n",
    "    df2 = df[['nova2', 'matricula1', 'CPF', 'pai2']]\n",
    "\n",
    "    data = {\n",
    "        \n",
    "        'Nome': [df2.iloc[7,0]],\n",
    "        'Matrícula': [df2.iloc[7,1]],\n",
    "        'Nome pai': [df2.iloc[9,3]],\n",
    "        'CPF': [df2.iloc[11,2]]\n",
    "    }\n",
    "\n",
    "    df_novo = pd.DataFrame(data, columns=['Nome', 'Matrícula', 'Nome pai', 'CPF'])\n",
    "    nome_arquivo = row['arquivos3'] + '.csv'\n",
    "    df_novo.to_csv(nome_arquivo, encoding='utf-8', index=False)\n"
   ]
  },
  {
   "cell_type": "code",
   "execution_count": null,
   "metadata": {},
   "outputs": [],
   "source": []
  }
 ],
 "metadata": {
  "kernelspec": {
   "display_name": "Python 3",
   "language": "python",
   "name": "python3"
  },
  "language_info": {
   "codemirror_mode": {
    "name": "ipython",
    "version": 3
   },
   "file_extension": ".py",
   "mimetype": "text/x-python",
   "name": "python",
   "nbconvert_exporter": "python",
   "pygments_lexer": "ipython3",
   "version": "3.8.7"
  }
 },
 "nbformat": 4,
 "nbformat_minor": 2
}
