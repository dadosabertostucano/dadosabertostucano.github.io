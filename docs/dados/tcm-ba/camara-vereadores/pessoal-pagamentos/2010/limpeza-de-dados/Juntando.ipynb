{
 "cells": [
  {
   "cell_type": "code",
   "execution_count": 1,
   "metadata": {},
   "outputs": [],
   "source": [
    "import glob\n",
    "import pandas as pd\n",
    "import numpy as np\n",
    "\n",
    "\n",
    "path =r'C:\\Users\\Micro\\Documents\\Folha Pessoal Tucano\\teste' # use your path\n",
    "allFiles = glob.glob(path + \"/*.csv\")\n",
    "\n",
    "list_ = []\n",
    "\n",
    "for file_ in allFiles:\n",
    "    df = pd.read_csv(file_,index_col=None, header=0, low_memory=False)\n",
    "    list_.append(df)\n",
    "\n",
    "pessoal = pd.concat(list_, axis = 0, ignore_index = True)"
   ]
  },
  {
   "cell_type": "code",
   "execution_count": 2,
   "metadata": {},
   "outputs": [
    {
     "name": "stdout",
     "output_type": "stream",
     "text": [
      "<class 'pandas.core.frame.DataFrame'>\n",
      "RangeIndex: 2242 entries, 0 to 2241\n",
      "Data columns (total 6 columns):\n",
      " #   Column             Non-Null Count  Dtype \n",
      "---  ------             --------------  ----- \n",
      " 0   Funcionário        2242 non-null   object\n",
      " 1   CPF/Matrícula      2242 non-null   object\n",
      " 2   Cargo              2242 non-null   object\n",
      " 3   Mês de Referência  2242 non-null   object\n",
      " 4   Salário Bruto      2242 non-null   object\n",
      " 5   Salário Líquido    2242 non-null   object\n",
      "dtypes: object(6)\n",
      "memory usage: 105.2+ KB\n"
     ]
    }
   ],
   "source": [
    "pessoal.info()"
   ]
  },
  {
   "cell_type": "code",
   "execution_count": 3,
   "metadata": {},
   "outputs": [
    {
     "data": {
      "text/html": [
       "<div>\n",
       "<style scoped>\n",
       "    .dataframe tbody tr th:only-of-type {\n",
       "        vertical-align: middle;\n",
       "    }\n",
       "\n",
       "    .dataframe tbody tr th {\n",
       "        vertical-align: top;\n",
       "    }\n",
       "\n",
       "    .dataframe thead th {\n",
       "        text-align: right;\n",
       "    }\n",
       "</style>\n",
       "<table border=\"1\" class=\"dataframe\">\n",
       "  <thead>\n",
       "    <tr style=\"text-align: right;\">\n",
       "      <th></th>\n",
       "      <th>Funcionário</th>\n",
       "      <th>CPF/Matrícula</th>\n",
       "      <th>Cargo</th>\n",
       "      <th>Mês de Referência</th>\n",
       "      <th>Salário Bruto</th>\n",
       "      <th>Salário Líquido</th>\n",
       "    </tr>\n",
       "  </thead>\n",
       "  <tbody>\n",
       "    <tr>\n",
       "      <th>0</th>\n",
       "      <td>ABIGAIL DONATA ALVES</td>\n",
       "      <td>#951</td>\n",
       "      <td>AGENTE COMUNITARIO DE SAÚDE</td>\n",
       "      <td>Nov/2020</td>\n",
       "      <td>R$ 1.820,00</td>\n",
       "      <td>R$ 1.274,70</td>\n",
       "    </tr>\n",
       "    <tr>\n",
       "      <th>1</th>\n",
       "      <td>ABIGAIL OLIVEIRA DOS SANTOS</td>\n",
       "      <td>#929</td>\n",
       "      <td>AGENTE DE LIMPEZA</td>\n",
       "      <td>Nov/2020</td>\n",
       "      <td>R$ 1.198,12</td>\n",
       "      <td>R$ 1.110,35</td>\n",
       "    </tr>\n",
       "    <tr>\n",
       "      <th>2</th>\n",
       "      <td>ABRAHAO SILVA MAIA</td>\n",
       "      <td>#063</td>\n",
       "      <td>GUARDA CIVIL MUNICIPAL</td>\n",
       "      <td>Nov/2020</td>\n",
       "      <td>R$ 2.060,44</td>\n",
       "      <td>R$ 1.412,46</td>\n",
       "    </tr>\n",
       "    <tr>\n",
       "      <th>3</th>\n",
       "      <td>ADAILTON ANDRADE DE SOUZA</td>\n",
       "      <td>#135</td>\n",
       "      <td>GUARDA CIVIL MUNICIPAL</td>\n",
       "      <td>Nov/2020</td>\n",
       "      <td>R$ 1.932,45</td>\n",
       "      <td>R$ 1.797,43</td>\n",
       "    </tr>\n",
       "    <tr>\n",
       "      <th>4</th>\n",
       "      <td>ADAILTON CAVALCANTE DE MOURA</td>\n",
       "      <td>##651</td>\n",
       "      <td>GUARDA CIVIL MUNICIPAL</td>\n",
       "      <td>Nov/2020</td>\n",
       "      <td>R$ 1.942,70</td>\n",
       "      <td>R$ 1.811,80</td>\n",
       "    </tr>\n",
       "  </tbody>\n",
       "</table>\n",
       "</div>"
      ],
      "text/plain": [
       "                    Funcionário CPF/Matrícula                        Cargo  \\\n",
       "0          ABIGAIL DONATA ALVES          #951  AGENTE COMUNITARIO DE SAÚDE   \n",
       "1   ABIGAIL OLIVEIRA DOS SANTOS          #929            AGENTE DE LIMPEZA   \n",
       "2            ABRAHAO SILVA MAIA          #063       GUARDA CIVIL MUNICIPAL   \n",
       "3     ADAILTON ANDRADE DE SOUZA          #135       GUARDA CIVIL MUNICIPAL   \n",
       "4  ADAILTON CAVALCANTE DE MOURA         ##651       GUARDA CIVIL MUNICIPAL   \n",
       "\n",
       "  Mês de Referência Salário Bruto Salário Líquido  \n",
       "0          Nov/2020   R$ 1.820,00     R$ 1.274,70  \n",
       "1          Nov/2020   R$ 1.198,12     R$ 1.110,35  \n",
       "2          Nov/2020   R$ 2.060,44     R$ 1.412,46  \n",
       "3          Nov/2020   R$ 1.932,45     R$ 1.797,43  \n",
       "4          Nov/2020   R$ 1.942,70     R$ 1.811,80  "
      ]
     },
     "execution_count": 3,
     "metadata": {},
     "output_type": "execute_result"
    }
   ],
   "source": [
    "pessoal.head()"
   ]
  },
  {
   "cell_type": "code",
   "execution_count": 8,
   "metadata": {},
   "outputs": [
    {
     "data": {
      "text/plain": [
       "PROFESSOR NIVEL II                          637\n",
       "AGENTE DE SERVIÇOS                          421\n",
       "AGENTE DE LIMPEZA                           164\n",
       "AGENTE COMUNITARIO DE SAÚDE                 114\n",
       "GUARDA CIVIL MUNICIPAL                      107\n",
       "PROFESSOR NIVEL I                            78\n",
       "TECNICO(A) DE ENFERMAGEM                     65\n",
       "AUXILIAR DE SERVICOS GERAIS                  56\n",
       "PROFESSOR NIVEL ESPECIAL                     50\n",
       "AGENTE DE COMBATE AS ENDEMIAS                40\n",
       "ENFERMEIRO (A)                               37\n",
       "ASSISTENTE SOCIAL                            35\n",
       "AGENTE ADMINISTRATIVO                        33\n",
       "AGENTE DE SERV. DE SEGURANÇA                 30\n",
       "PROFESSOR NIVEL III                          30\n",
       "MOTORISTA                                    25\n",
       "ORIENTADOR(A) SOCIAL                         25\n",
       "MOTORISTA DE CARRO LEVE                      24\n",
       "AUXILIAR DE ENFERMAGEM                       22\n",
       "OPERADOR DE POÇOS                            18\n",
       "PSICOLOGO(A)                                 16\n",
       "PROFESSOR DE EDUCACAO INFANTIL               14\n",
       "DIGITADOR(A)                                 12\n",
       "CONSELHEIRO(A)                               10\n",
       "AUDITOR FISCAL DA RECEITA MUNICIPAL          10\n",
       "MEDICO PLANTONISTA - UPA                      8\n",
       "NUTRICIONISTA                                 8\n",
       "FISIOTERAPEUTA                                7\n",
       "TECNICO EM RADIOLOGIA                         7\n",
       "OPERADOR DE MAQ. LEVE                         7\n",
       "EDUCADOR(A) FISICO                            4\n",
       "PROFESSOR (A)                                 4\n",
       "FARMACEUTICO (A)                              4\n",
       "TELEFONISTA                                   4\n",
       "MECANICO                                      3\n",
       "ADMINISTRADOR DE POVOADO                      3\n",
       "AUXILIAR ADMINISTRATIVO                       3\n",
       "COORDENADOR(A) DA CENTRAL DE CONSULTAS        3\n",
       "TECNICO FISCAL DO USO E OCUPAÇAO DO SOLO      3\n",
       "ODONTOLOGO (A)                                2\n",
       "Name: Cargo, dtype: int64"
      ]
     },
     "execution_count": 8,
     "metadata": {},
     "output_type": "execute_result"
    }
   ],
   "source": [
    "pessoal['Cargo'].value_counts().head(40)"
   ]
  },
  {
   "cell_type": "code",
   "execution_count": 38,
   "metadata": {},
   "outputs": [],
   "source": [
    "alunos_ufrb.VALOR = alunos_ufrb.VALOR.astype(float)\n",
    "#alunos_ufrb['VALOR'] = alunos_ufrb['VALOR'].str.replace('.', '').astype('float')"
   ]
  },
  {
   "cell_type": "code",
   "execution_count": 42,
   "metadata": {},
   "outputs": [],
   "source": [
    "alunos_ufrb.SIAPE = alunos_ufrb.SIAPE.astype(str)"
   ]
  },
  {
   "cell_type": "code",
   "execution_count": 9,
   "metadata": {},
   "outputs": [],
   "source": [
    "pessoal.to_csv('arquivo_geral/tcm_pessoal_tucano.csv', index=False, encoding='utf-8')"
   ]
  },
  {
   "cell_type": "code",
   "execution_count": 10,
   "metadata": {},
   "outputs": [
    {
     "data": {
      "text/html": [
       "<div>\n",
       "<style scoped>\n",
       "    .dataframe tbody tr th:only-of-type {\n",
       "        vertical-align: middle;\n",
       "    }\n",
       "\n",
       "    .dataframe tbody tr th {\n",
       "        vertical-align: top;\n",
       "    }\n",
       "\n",
       "    .dataframe thead th {\n",
       "        text-align: right;\n",
       "    }\n",
       "</style>\n",
       "<table border=\"1\" class=\"dataframe\">\n",
       "  <thead>\n",
       "    <tr style=\"text-align: right;\">\n",
       "      <th></th>\n",
       "      <th>Funcionário</th>\n",
       "      <th>CPF/Matrícula</th>\n",
       "      <th>Cargo</th>\n",
       "      <th>Mês de Referência</th>\n",
       "      <th>Salário Bruto</th>\n",
       "      <th>Salário Líquido</th>\n",
       "    </tr>\n",
       "  </thead>\n",
       "  <tbody>\n",
       "    <tr>\n",
       "      <th>0</th>\n",
       "      <td>ABIGAIL DONATA ALVES</td>\n",
       "      <td>#951</td>\n",
       "      <td>AGENTE COMUNITARIO DE SAÚDE</td>\n",
       "      <td>Nov/2020</td>\n",
       "      <td>R$ 1.820,00</td>\n",
       "      <td>R$ 1.274,70</td>\n",
       "    </tr>\n",
       "    <tr>\n",
       "      <th>1</th>\n",
       "      <td>ABIGAIL OLIVEIRA DOS SANTOS</td>\n",
       "      <td>#929</td>\n",
       "      <td>AGENTE DE LIMPEZA</td>\n",
       "      <td>Nov/2020</td>\n",
       "      <td>R$ 1.198,12</td>\n",
       "      <td>R$ 1.110,35</td>\n",
       "    </tr>\n",
       "    <tr>\n",
       "      <th>2</th>\n",
       "      <td>ABRAHAO SILVA MAIA</td>\n",
       "      <td>#063</td>\n",
       "      <td>GUARDA CIVIL MUNICIPAL</td>\n",
       "      <td>Nov/2020</td>\n",
       "      <td>R$ 2.060,44</td>\n",
       "      <td>R$ 1.412,46</td>\n",
       "    </tr>\n",
       "    <tr>\n",
       "      <th>3</th>\n",
       "      <td>ADAILTON ANDRADE DE SOUZA</td>\n",
       "      <td>#135</td>\n",
       "      <td>GUARDA CIVIL MUNICIPAL</td>\n",
       "      <td>Nov/2020</td>\n",
       "      <td>R$ 1.932,45</td>\n",
       "      <td>R$ 1.797,43</td>\n",
       "    </tr>\n",
       "    <tr>\n",
       "      <th>4</th>\n",
       "      <td>ADAILTON CAVALCANTE DE MOURA</td>\n",
       "      <td>##651</td>\n",
       "      <td>GUARDA CIVIL MUNICIPAL</td>\n",
       "      <td>Nov/2020</td>\n",
       "      <td>R$ 1.942,70</td>\n",
       "      <td>R$ 1.811,80</td>\n",
       "    </tr>\n",
       "  </tbody>\n",
       "</table>\n",
       "</div>"
      ],
      "text/plain": [
       "                    Funcionário CPF/Matrícula                        Cargo  \\\n",
       "0          ABIGAIL DONATA ALVES          #951  AGENTE COMUNITARIO DE SAÚDE   \n",
       "1   ABIGAIL OLIVEIRA DOS SANTOS          #929            AGENTE DE LIMPEZA   \n",
       "2            ABRAHAO SILVA MAIA          #063       GUARDA CIVIL MUNICIPAL   \n",
       "3     ADAILTON ANDRADE DE SOUZA          #135       GUARDA CIVIL MUNICIPAL   \n",
       "4  ADAILTON CAVALCANTE DE MOURA         ##651       GUARDA CIVIL MUNICIPAL   \n",
       "\n",
       "  Mês de Referência Salário Bruto Salário Líquido  \n",
       "0          Nov/2020   R$ 1.820,00     R$ 1.274,70  \n",
       "1          Nov/2020   R$ 1.198,12     R$ 1.110,35  \n",
       "2          Nov/2020   R$ 2.060,44     R$ 1.412,46  \n",
       "3          Nov/2020   R$ 1.932,45     R$ 1.797,43  \n",
       "4          Nov/2020   R$ 1.942,70     R$ 1.811,80  "
      ]
     },
     "execution_count": 10,
     "metadata": {},
     "output_type": "execute_result"
    }
   ],
   "source": [
    "df2 = pd.read_csv('arquivo_geral/tcm_pessoal_tucano.csv')\n",
    "df2.head()"
   ]
  },
  {
   "cell_type": "code",
   "execution_count": 11,
   "metadata": {},
   "outputs": [
    {
     "name": "stdout",
     "output_type": "stream",
     "text": [
      "<class 'pandas.core.frame.DataFrame'>\n",
      "RangeIndex: 2242 entries, 0 to 2241\n",
      "Data columns (total 6 columns):\n",
      " #   Column             Non-Null Count  Dtype \n",
      "---  ------             --------------  ----- \n",
      " 0   Funcionário        2242 non-null   object\n",
      " 1   CPF/Matrícula      2242 non-null   object\n",
      " 2   Cargo              2242 non-null   object\n",
      " 3   Mês de Referência  2242 non-null   object\n",
      " 4   Salário Bruto      2242 non-null   object\n",
      " 5   Salário Líquido    2242 non-null   object\n",
      "dtypes: object(6)\n",
      "memory usage: 105.2+ KB\n"
     ]
    }
   ],
   "source": [
    "df2.info()"
   ]
  },
  {
   "cell_type": "code",
   "execution_count": null,
   "metadata": {},
   "outputs": [],
   "source": []
  }
 ],
 "metadata": {
  "kernelspec": {
   "display_name": "Python 3",
   "language": "python",
   "name": "python3"
  },
  "language_info": {
   "codemirror_mode": {
    "name": "ipython",
    "version": 3
   },
   "file_extension": ".py",
   "mimetype": "text/x-python",
   "name": "python",
   "nbconvert_exporter": "python",
   "pygments_lexer": "ipython3",
   "version": "3.8.7"
  }
 },
 "nbformat": 4,
 "nbformat_minor": 2
}
